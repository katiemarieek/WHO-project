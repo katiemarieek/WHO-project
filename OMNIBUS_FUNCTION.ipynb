{
 "cells": [
  {
   "cell_type": "markdown",
   "id": "b1ccae10-7d14-4055-b45b-3d09e2c82ea3",
   "metadata": {},
   "source": [
    "<p style=\"text-align:center;\">\n",
    "<img src=\"https://github.com/digital-futures-academy/DataScienceMasterResources/blob/main/Resources/datascience-notebook-header.png?raw=true\"\n",
    "     alt=\"DigitalFuturesLogo\"\n",
    "     style=\"float: center; margin-right: 10px;\" />\n",
    "</p>"
   ]
  },
  {
   "cell_type": "markdown",
   "id": "ae6c2a7a-9bd5-404a-829e-9093af4017ad",
   "metadata": {},
   "source": [
    "# Life Expectancy Function\n",
    "## World Health Organisation"
   ]
  },
  {
   "cell_type": "code",
   "execution_count": 4,
   "id": "724aaf37-81a0-411e-a8bd-6deab9fcda4b",
   "metadata": {
    "tags": []
   },
   "outputs": [],
   "source": [
    "import numpy as np\n",
    "import seaborn as sns\n",
    "import matplotlib.pyplot as plt\n",
    "import pandas as pd\n",
    "\n",
    "import pickle\n",
    "from geopy.geocoders import Nominatim"
   ]
  },
  {
   "cell_type": "code",
   "execution_count": 5,
   "id": "43b89039-9b87-403c-99ad-4983a5f1a39e",
   "metadata": {
    "tags": []
   },
   "outputs": [],
   "source": [
    "def regression(region_dict):\n",
    "    '''function for producting a prediction on life expectancy from a given set of data, using linreg.'''\n",
    "    choice_1 = input(\"Do you consent to using sensitive data such as immunisation rates, GDP information and location? (Y/N)\")\n",
    "    if choice_1 == 'Y':\n",
    "        \n",
    "        choice_2 = input(\"Would you prefer the most accurate model, or most robust? (A/R)\")\n",
    "        \n",
    "        if choice_2 == 'A':\n",
    "            Year = float(input(\"Please input Year\"))\n",
    "            Infant_deaths = float(input(\"Please input Number of Infant Deaths per 1000 population\"))\n",
    "            Under_five_deaths = float(input(\"Please input Number of under-five deaths per 1000 population\"))\n",
    "            Adult_mortality = float(input(\"Please input Adult Mortality Rates of both sexes (probability of dying between 15 and 60 years per 1000 population)\"))\n",
    "            Hepatitis_B =  float(input(\"Please input Hepatitis B (HepB) immunization coverage among 1-year-olds (%)\"))\n",
    "            BMI = float(input(\"Please input Average Body Mass Index of entire population\"))\n",
    "            Schooling = float(input(\"Please input Number of years of Schooling (years)\"))\n",
    "            Economy_status_Developed = float(input(\"Please input 1 for Developed Status Economy, or 0 for Developing Status Economy\"))\n",
    "            Incidents_HIV = float(input(\"Please input Deaths per 1 000 live births HIV/AIDS (0-4 years)\")) \n",
    "            GDP_per_capita = float(input(\"Please input your Countries GDP per Capita\")) \n",
    "                                           \n",
    "            Country = input(\"Please input your Country\")\n",
    "                                           \n",
    "                          \n",
    "            if Country not in region_dict:\n",
    "                print('Your Country could not be found')\n",
    "                return False\n",
    "            \n",
    "            geolocator = Nominatim(user_agent=\"my_geocoder\")\n",
    "            location = geolocator.geocode(Country)  \n",
    "                                           \n",
    "            Region = region_dict[Country]\n",
    "            long = location.longitude\n",
    "            lat = location.latitude\n",
    "                \n",
    "            if Region == 'Asia':\n",
    "                Region_Asia_Long = long\n",
    "            else:\n",
    "                Region_Asia_Long = 0\n",
    "                                           \n",
    "            if Region == 'Central_America_and_Caribbean':\n",
    "                Region_Central_America_and_Caribbean_Lat = lat\n",
    "                Region_Central_America_and_Caribbean_Long = long\n",
    "            else:\n",
    "                Region_Central_America_and_Caribbean_Lat = 0\n",
    "                Region_Central_America_and_Caribbean_Long = 0\n",
    "                                           \n",
    "            if Region == 'European Union':\n",
    "                Region_European_Union_Lat = lat\n",
    "                Region_European_Union_Long = long\n",
    "            else:\n",
    "                Region_European_Union_Lat = 0\n",
    "                Region_European_Union_Long = 0\n",
    "                                           \n",
    "            if Region == 'Middle East':\n",
    "                Region_Middle_East_Lat = lat\n",
    "                Region_Middle_East_Long = long\n",
    "            else:\n",
    "                Region_Middle_East_Lat = 0\n",
    "                Region_Middle_East_Long = 0\n",
    "                                           \n",
    "            if Region == 'North America':\n",
    "                Region_North_America_Lat = lat\n",
    "                Region_North_America_Long = long\n",
    "            else:\n",
    "                Region_North_America_Lat = 0\n",
    "                Region_North_America_Long = 0\n",
    "                                           \n",
    "            if Region == 'Oceania':\n",
    "                Region_Oceania_Lat = lat\n",
    "            else:\n",
    "                Region_Oceania_Lat = 0\n",
    "                                           \n",
    "            if Region == 'South America':\n",
    "                Region_South_America_Lat = lat\n",
    "                Region_South_America_Long = long\n",
    "            else:\n",
    "                Region_South_America_Lat = 0\n",
    "                Region_South_America_Long = 0\n",
    "            \n",
    "\n",
    "            HIV_log =  np.log(Incidents_HIV) # feature engineering for log.\n",
    "            robust_GDP =  (GDP_per_capita - 4217.000000)/(12557.000000-1415.750000)  # feature engineering for robust scaling.                  \n",
    "\n",
    "            y_pred = (3.032960 + (Year * 0.040213) - (Infant_deaths * 0.057378) - (Under_five_deaths * 0.052745) - (Adult_mortality * 0.042581) \n",
    "                    - (Hepatitis_B * 0.007456) - (BMI * 0.173197) + (Schooling * 0.141658) + (Economy_status_Developed * 2.570668) - (HIV_log  * 0.098766) \n",
    "                    + (robust_GDP * 0.299015) + (Region_Asia_Long * 0.003260) - (Region_Central_America_and_Caribbean_Lat * 0.033608) \n",
    "                    - (Region_Central_America_and_Caribbean_Long * 0.037585) - (Region_European_Union_Lat  * 0.013740) - (Region_European_Union_Long * 0.024288) \n",
    "                    + (Region_Middle_East_Lat * 0.018903) - (Region_Middle_East_Long * 0.006130) - (Region_North_America_Lat *  0.063491) \n",
    "                    - (Region_North_America_Long  *  0.030893) + (Region_Oceania_Lat  * 0.020383) - (Region_South_America_Lat * 0.018519)\n",
    "                    - (Region_South_America_Long* 0.026055))\n",
    "\n",
    "        elif choice_2 == 'R':\n",
    "            Adult_mortality = float(input(\"Please input Adult Mortality Rates of both sexes (probability of dying between 15 and 60 years per 1000 population)\"))\n",
    "            Economy_status_Developing = float(input(\"Please input 1 for Developing Status Economy, or 0 for Developed Status Economy\"))                      \n",
    "            Under_five_deaths = float(input(\"Please input Number of under-five deaths per 1000 population\"))\n",
    "            Thinness_ten_nineteen_years = float(input(\"Please input Prevalence of Thinness among children and adolescents for Age 10 to 19 (%)\")) \n",
    "            Incidents_HIV = float(input(\"Please input Deaths per 1 000 live births HIV/AIDS (0-4 years)\"))  \n",
    "\n",
    "            y_pred = (83.6189652770035 - (Adult_mortality * 0.04822813878970732) - (Economy_status_Developing * 2.2384826866603986) - \n",
    "                (Under_five_deaths * 0.08908986733007661) + (Incidents_HIV * 0.11383671753880499))\n",
    "        else:\n",
    "            print(\"Invalid input. Please choose either 'A' or 'R'\")\n",
    "                                \n",
    "    elif choice_1 == 'N':\n",
    "        Adult_mortality = float(input(\"Please input Adult Mortality Rates of both sexes (probability of dying between 15 and 60 years per 1000 population)\"))\n",
    "        Economy_status_Developing = float(input(\"Please input 1 for Developing Status Economy, or 0 for Developed Status Economy\"))                      \n",
    "        Under_five_deaths = float(input(\"Please input Number of under-five deaths per 1000 population\"))\n",
    "        Thinness_ten_nineteen_years = float(input(\"Please input Prevalence of Thinness among children and adolescents for Age 10 to 19 (%)\")) \n",
    "        Incidents_HIV = float(input(\"Please input Deaths per 1 000 live births HIV/AIDS (0-4 years)\"))  \n",
    "\n",
    "        y_pred = (83.6189652770035 - (Adult_mortality * 0.04822813878970732) - (Economy_status_Developing * 2.2384826866603986) \n",
    "                - (Under_five_deaths * 0.08908986733007661) + (Incidents_HIV * 0.11383671753880499))\n",
    "\n",
    "    else:\n",
    "        print(\"Invalid input. Please choose either 'Y' or 'N'\")\n",
    "\n",
    "    return y_pred"
   ]
  },
  {
   "cell_type": "code",
   "execution_count": 10,
   "id": "bbab1997-83c5-420e-816e-aad2e4a7ca6a",
   "metadata": {
    "tags": []
   },
   "outputs": [
    {
     "name": "stdin",
     "output_type": "stream",
     "text": [
      "Do you consent to using sensitive data such as immunisation rates, GDP information and location? (Y/N) Y\n",
      "Would you prefer the most accurate model, or most robust? (A/R) R\n",
      "Please input Adult Mortality Rates of both sexes (probability of dying between 15 and 60 years per 1000 population) 105.8240\n",
      "Please input 1 for Developing Status Economy, or 0 for Developed Status Economy 1\n",
      "Please input Number of under-five deaths per 1000 population 13\n",
      "Please input Prevalence of Thinness among children and adolescents for Age 10 to 19 (%) 4.9\n",
      "Please input Deaths per 1 000 live births HIV/AIDS (0-4 years) 0.08\n"
     ]
    },
    {
     "data": {
      "text/plain": [
       "75.12772669317322"
      ]
     },
     "execution_count": 10,
     "metadata": {},
     "output_type": "execute_result"
    }
   ],
   "source": [
    "with open('Region_Dictionary.pkl', 'rb') as f:\n",
    "    region_dict = pickle.load(f)\n",
    "\n",
    "regression(region_dict)"
   ]
  }
 ],
 "metadata": {
  "kernelspec": {
   "display_name": "Python 3 (ipykernel)",
   "language": "python",
   "name": "python3"
  },
  "language_info": {
   "codemirror_mode": {
    "name": "ipython",
    "version": 3
   },
   "file_extension": ".py",
   "mimetype": "text/x-python",
   "name": "python",
   "nbconvert_exporter": "python",
   "pygments_lexer": "ipython3",
   "version": "3.11.5"
  }
 },
 "nbformat": 4,
 "nbformat_minor": 5
}
